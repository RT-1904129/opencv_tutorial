{
 "cells": [
  {
   "cell_type": "markdown",
   "metadata": {},
   "source": [
    "# Here we focus on traking Multiple objects "
   ]
  },
  {
   "cell_type": "code",
   "execution_count": 33,
   "metadata": {},
   "outputs": [],
   "source": [
    "import cv2"
   ]
  },
  {
   "cell_type": "code",
   "execution_count": 34,
   "metadata": {},
   "outputs": [],
   "source": [
    "# here we have All traker Dictionary\n",
    "TrDict={'csrt':cv2.TrackerCSRT_create,\n",
    "       'kcf':cv2.TrackerKCF_create,\n",
    "       'boosting':cv2.TrackerBoosting_create,\n",
    "       'mil':cv2.TrackerMIL_create,\n",
    "       'tld': cv2.TrackerTLD_create,\n",
    "       'medianflow':cv2.TrackerMedianFlow_create,\n",
    "       'mosse':cv2.TrackerMOSSE_create}"
   ]
  },
  {
   "cell_type": "code",
   "execution_count": 35,
   "metadata": {},
   "outputs": [],
   "source": [
    "trackers=cv2.MultiTracker_create()"
   ]
  },
  {
   "cell_type": "code",
   "execution_count": 36,
   "metadata": {},
   "outputs": [],
   "source": [
    "path=0 \n",
    "#its for our one camera if we want to read any vedio than provide path for that vedio file\n",
    "Cap=cv2.VideoCapture(path)\n",
    "ret,frame=Cap.read()\n",
    "# Flip a 2D array. \"1\" means flipping around y-axis\n",
    "frame = cv2.flip(frame, 1)\n",
    "k=1 # we will traking three object\n",
    "for i in range(k):\n",
    "    cv2.imshow('Frame',frame)\n",
    "    bbox=cv2.selectROI('Frame',frame)\n",
    "    tracker_i=TrDict['csrt']()\n",
    "    trackers.add(tracker_i,frame,bbox)# it will automatically add that traking region in multiple traking\n",
    "\n",
    "while True:\n",
    "    ret,frame=Cap.read()\n",
    "    # Flip a 2D array. \"1\" means flipping around y-axis\n",
    "    frame = cv2.flip(frame, 1)\n",
    "    (success,boxes)=trackers.update(frame)\n",
    "    for box in boxes:\n",
    "        x,y,w,h=[int(point) for point in box]\n",
    "        cv2.rectangle(frame,(x,y),(x+w,y+h),(255,0,0),2)\n",
    "    cv2.imshow(\"Frame\",frame)\n",
    "    if cv2.waitKey(1)==ord('q'): # when we press q key than it realse the webcam\n",
    "        break\n",
    "\n",
    "Cap.release()\n",
    "cv2.destroyAllWindows()\n",
    "    "
   ]
  },
  {
   "cell_type": "markdown",
   "metadata": {},
   "source": [
    "## so we got conclusion that multipe object traking work more efficient if we select big object not very very small object"
   ]
  },
  {
   "cell_type": "code",
   "execution_count": null,
   "metadata": {},
   "outputs": [],
   "source": []
  },
  {
   "cell_type": "code",
   "execution_count": null,
   "metadata": {},
   "outputs": [],
   "source": []
  }
 ],
 "metadata": {
  "kernelspec": {
   "display_name": "Python 3",
   "language": "python",
   "name": "python3"
  },
  "language_info": {
   "codemirror_mode": {
    "name": "ipython",
    "version": 3
   },
   "file_extension": ".py",
   "mimetype": "text/x-python",
   "name": "python",
   "nbconvert_exporter": "python",
   "pygments_lexer": "ipython3",
   "version": "3.7.6"
  }
 },
 "nbformat": 4,
 "nbformat_minor": 4
}
