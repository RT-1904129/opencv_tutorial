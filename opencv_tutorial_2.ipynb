{
 "cells": [
  {
   "cell_type": "markdown",
   "metadata": {},
   "source": [
    "Here we will do image translation or image displacement"
   ]
  },
  {
   "cell_type": "code",
   "execution_count": 4,
   "metadata": {},
   "outputs": [],
   "source": [
    "import cv2\n",
    "img=cv2.imread(r'C:\\Users\\Asus\\Downloads\\additional_stdy\\rishabh.jpg')\n",
    "ims=cv2.resize(img,(500,500))\n",
    "cv2.imshow(\"output image\",ims)\n",
    "cv2.waitKey(0)\n",
    "cv2.destroyAllWindows()"
   ]
  },
  {
   "cell_type": "code",
   "execution_count": 5,
   "metadata": {},
   "outputs": [
    {
     "name": "stdout",
     "output_type": "stream",
     "text": [
      "500\n",
      "500\n"
     ]
    }
   ],
   "source": [
    "height,width=ims.shape[:2]\n",
    "print(height)\n",
    "print(width)"
   ]
  },
  {
   "cell_type": "code",
   "execution_count": 13,
   "metadata": {},
   "outputs": [],
   "source": [
    "import numpy as np\n",
    "T=np.array([[1,0,width/9],\n",
    "           [0,1,height/7]],dtype=float)\n",
    "#here we create translation matrix for translation of images upto want extent we want"
   ]
  },
  {
   "cell_type": "code",
   "execution_count": 14,
   "metadata": {},
   "outputs": [
    {
     "data": {
      "text/plain": [
       "array([[ 1.        ,  0.        , 55.55555556],\n",
       "       [ 0.        ,  1.        , 71.42857143]])"
      ]
     },
     "execution_count": 14,
     "metadata": {},
     "output_type": "execute_result"
    }
   ],
   "source": [
    "T"
   ]
  },
  {
   "cell_type": "code",
   "execution_count": 16,
   "metadata": {},
   "outputs": [],
   "source": [
    "img_translation=cv2.warpAffine(ims,T,(width,height))#this function used in creating translation images by putting black in theose T matrixes\n",
    "# area and remain part is filled with images\n",
    "#cv2.warpAffine(images,Translated matrix,(width of images,heightof images))\n",
    "cv2.imshow(\"translated images\",img_translation)\n",
    "cv2.waitKey(0)\n",
    "cv2.destroyAllWindows()"
   ]
  },
  {
   "cell_type": "markdown",
   "metadata": {},
   "source": [
    "here we talk about images rotation"
   ]
  },
  {
   "cell_type": "code",
   "execution_count": 20,
   "metadata": {},
   "outputs": [],
   "source": [
    "import cv2\n",
    "img=cv2.imread(r'C:\\Users\\Asus\\Downloads\\additional_stdy\\rishabh.jpg')\n",
    "ims=cv2.resize(img,(500,500))\n",
    "cv2.imshow(\"output image\",ims)\n",
    "height,width=ims.shape[:2]\n",
    "rotation_matrix=cv2.getRotationMatrix2D((width/2,height/2),80,1.5)\n",
    "#cv2.getRotationMatrix2D((as much height,as much weidth),angle you want to rotate,scale factor how much close figure you want)\n",
    "rotated_image=cv2.warpAffine(ims,rotation_matrix,(width,height))\n",
    "cv2.imshow(\"roteted images\",rotated_image)\n",
    "cv2.waitKey(0)\n",
    "cv2.destroyAllWindows()"
   ]
  },
  {
   "cell_type": "markdown",
   "metadata": {},
   "source": [
    "image transpose here we now"
   ]
  },
  {
   "cell_type": "code",
   "execution_count": 21,
   "metadata": {},
   "outputs": [],
   "source": [
    "import cv2\n",
    "img=cv2.imread(r'C:\\Users\\Asus\\Downloads\\additional_stdy\\rishabh.jpg')\n",
    "ims=cv2.resize(img,(500,500))\n",
    "cv2.imshow(\"output image\",ims)\n",
    "rotated_img= cv2.transpose(ims)#it directly rotated to 90 digree it directly transpose matrixies row convert into columns and columns convert row\n",
    "cv2.imshow(\"90 dehree roted images\",rotated_img)\n",
    "cv2.waitKey(0)\n",
    "cv2.destroyAllWindows()"
   ]
  },
  {
   "cell_type": "markdown",
   "metadata": {},
   "source": [
    "image scaling and resizeing(interplotation)"
   ]
  },
  {
   "cell_type": "code",
   "execution_count": 31,
   "metadata": {},
   "outputs": [],
   "source": [
    "#three method\n",
    "import cv2\n",
    "img=cv2.imread(r'C:\\Users\\Asus\\Downloads\\additional_stdy\\rishabh.jpg')\n",
    "ims=cv2.resize(img,(500,500))\n",
    "cv2.imshow(\"output image\",ims)\n",
    "# first method it make orignal images to scale 1/2 \n",
    "img_scaled=cv2.resize(ims,None,fx=0.50,fy=0.50)\n",
    "#cv2.resize(img,None,fx=scale x cordinate of images,fy=scale y cordinate of images)\n",
    "cv2.imshow(\"imge scaled liner Interplotation  by1/2\",img_scaled)\n",
    "#second method using cv2.INTER_CUBIC\n",
    "img_scaled2=cv2.resize(ims,None,fx=0.5,fy=0.5,interpolation=cv2.INTER_CUBIC)\n",
    "cv2.imshow(\"Scaling-Cubic Interplotation\",img_scaled2)\n",
    "#by thired method using skew re-sizied by setting exact dimenions\n",
    "img_scaled3=cv2.resize(ims,(650,250),interpolation=cv2.INTER_AREA)\n",
    "cv2.imshow(\"scaling-Skewed Size\",img_scaled3)\n",
    "img_scaled4=cv2.resize(ims,(650,250))\n",
    "cv2.imshow(\" without area\",img_scaled4)# by default it consider cv2.INTER_AREA \n",
    "cv2.waitKey(0)\n",
    "cv2.destroyAllWindows()"
   ]
  },
  {
   "cell_type": "markdown",
   "metadata": {},
   "source": [
    "image pyramid(image resize) here we can do doubling half directly"
   ]
  },
  {
   "cell_type": "code",
   "execution_count": 32,
   "metadata": {},
   "outputs": [],
   "source": [
    "import cv2\n",
    "img=cv2.imread(r'C:\\Users\\Asus\\Downloads\\additional_stdy\\rishabh.jpg')\n",
    "ims=cv2.resize(img,(500,500))#original image\n",
    "cv2.imshow(\"output image\",ims)\n",
    "smaller=cv2.pyrDown(ims)\n",
    "large=cv2.pyrUp(ims)\n",
    "cv2.imshow(\"smaller\",smaller)#half of original image\n",
    "cv2.imshow(\"large\",large)#double the original image\n",
    "cv2.waitKey(0)\n",
    "cv2.destroyAllWindows()"
   ]
  },
  {
   "cell_type": "markdown",
   "metadata": {},
   "source": [
    "Image cropping Here"
   ]
  },
  {
   "cell_type": "code",
   "execution_count": 34,
   "metadata": {},
   "outputs": [],
   "source": [
    "import cv2\n",
    "img=cv2.imread(r'C:\\Users\\Asus\\Downloads\\additional_stdy\\rishabh.jpg')\n",
    "ims=cv2.resize(img,(500,500))\n",
    "cv2.imshow(\"output image\",ims)\n",
    "height,width=ims.shape[:2]\n",
    "#lets get the starting pixal coordinate\n",
    "start_row,start_col=int(height*0.23),int(width*0.23)\n",
    "#starting cropped pixal coordinate column,row\n",
    "end_row,end_col=int(height*0.80),int(width*0.80)\n",
    "#starting cropped pixal coorsdinate colowns\n",
    "cropped=ims[start_row:end_row,start_col:end_col]\n",
    "cv2.imshow(\"Cropped images\",cropped)\n",
    "cv2.waitKey(0)\n",
    "cv2.destroyAllWindows()"
   ]
  },
  {
   "cell_type": "markdown",
   "metadata": {},
   "source": [
    "Further see vedios images arethmetices and make complete tutorials"
   ]
  },
  {
   "cell_type": "code",
   "execution_count": 6,
   "metadata": {},
   "outputs": [],
   "source": [
    "import cv2\n",
    "img=cv2.imread(r'C:\\Users\\Asus\\Downloads\\additional_stdy\\rishabh.jpg')\n",
    "ims=cv2.resize(img,(500,500))\n",
    "cv2.imshow(\"output image\",ims)\n",
    "import numpy as np\n",
    "M=np.ones(ims.shape,dtype=\"uint8\")*100\n",
    "M1=np.zeros(ims.shape,dtype=\"uint8\")+100\n",
    "added=cv2.add(ims,M)#adding two image matrix\n",
    "cv2.imshow(\"Added1\",added)\n",
    "substract=cv2.subtract(ims,M)#substaract two images matrix\n",
    "cv2.imshow(\"subtract1\",substract)\n",
    "mul=cv2.multiply(ims,M)#multipying two images matrix\n",
    "cv2.imshow(\"Mul1\",mul)\n",
    "added=cv2.add(ims,M1)\n",
    "cv2.imshow(\"Added2\",added)\n",
    "substract=cv2.subtract(ims,M1)\n",
    "cv2.imshow(\"subtract2\",substract)\n",
    "mul=cv2.multiply(ims,M1)\n",
    "cv2.imshow(\"Mul2\",mul)\n",
    "cv2.waitKey(0)\n",
    "cv2.destroyAllWindows()"
   ]
  },
  {
   "cell_type": "markdown",
   "metadata": {},
   "source": [
    "Here we talk about bitwise operation in images"
   ]
  },
  {
   "cell_type": "code",
   "execution_count": 21,
   "metadata": {},
   "outputs": [],
   "source": [
    "square=np.zeros((300,300),np.uint8)\n",
    "cv2.rectangle(square,(50,50),(250,250),250,-1)\n",
    "#cv2.rectangle(images,start coordinate,end coordinate,color code,(-1)means inside filled(any integer -ve means increse edage width outside))\n",
    "cv2.imshow(\"Square\",square)\n",
    "ellipse=np.zeros((300,300),np.uint8)\n",
    "cv2.ellipse(ellipse,(150,150),(150,150),30,0,180,255,-1)\n",
    "cv2.imshow(\"Ellipse\",ellipse)\n",
    "#we can do bitwise operation on RGB image but you should convert into Binery image\n",
    "And=cv2.bitwise_and(square,ellipse)#bitwise and operation\n",
    "cv2.imshow(\"And\",And)#\n",
    "Or=cv2.bitwise_or(square,ellipse)#bitwise or operation\n",
    "cv2.imshow(\"OR\",Or)\n",
    "XOr=cv2.bitwise_xor(square,ellipse)#bitwise xor operation\n",
    "cv2.imshow(\"XOR\",XOr)\n",
    "NOT=cv2.bitwise_not(square)#bitwise not operation\n",
    "cv2.imshow(\"NOT\",NOT)\n",
    "cv2.waitKey(0)\n",
    "cv2.destroyAllWindows()"
   ]
  },
  {
   "cell_type": "markdown",
   "metadata": {},
   "source": [
    "Image Blurring Creation(if we more blurring than more important information is lost so better to do less blerring)"
   ]
  },
  {
   "cell_type": "code",
   "execution_count": 25,
   "metadata": {},
   "outputs": [],
   "source": [
    "import cv2\n",
    "img=cv2.imread(r'C:\\Users\\Asus\\Downloads\\additional_stdy\\rishabh.jpg')\n",
    "ims=cv2.resize(img,(500,500))\n",
    "cv2.imshow(\"output image\",ims)\n",
    "#here we apply kernal matrix any sizebut devide by n*n we always take n should odd \n",
    "kernal_3x3=np.ones((3,3),np.float32)/9\n",
    "#we use the cv2.filter2D (img,depth(-1),kernal matrix for filtering)to convolve the kernal with an image\n",
    "blurred=cv2.filter2D(ims,-1,kernal_3x3)\n",
    "cv2.imshow(\"3x3 Kernal Blurring\",blurred)\n",
    "kernal_7x7=np.ones((7,7),np.float32)/49\n",
    "blurred=cv2.filter2D(ims,-1,kernal_7x7)\n",
    "cv2.imshow(\"7x7 Kernal Blurring\",blurred)\n",
    "cv2.waitKey(0)\n",
    "cv2.destroyAllWindows()"
   ]
  },
  {
   "cell_type": "markdown",
   "metadata": {},
   "source": [
    "image smoothing"
   ]
  },
  {
   "cell_type": "code",
   "execution_count": 1,
   "metadata": {},
   "outputs": [],
   "source": [
    "import cv2\n",
    "img=cv2.imread(r'C:\\Users\\Asus\\Downloads\\additional_stdy\\rishabh.jpg')\n",
    "ims=cv2.resize(img,(500,500))\n",
    "cv2.imshow(\"output image\",ims)\n",
    "#here we take filter box filter blur(image,pixal coordinate odd and positive)\n",
    "blur=cv2.blur(ims,(3,3))\n",
    "cv2.imshow(\"Blur Image\",blur)\n",
    "cv2.waitKey(0)\n",
    "#instead of using Box filter we use gaussinan kernal\n",
    "Gaussian=cv2.GaussianBlur(ims,(3,3),0)\n",
    "cv2.imshow(\"Gaussian Blur Image\",Gaussian)\n",
    "cv2.waitKey(0)\n",
    "median=cv2.medianBlur(ims,3)\n",
    "#cv2.medianBlur(ims,5) it apply 3x3 kernal it is most use full and always recommended if you have graphic chad\n",
    "cv2.imshow(\"Median Blur Image\",median)\n",
    "cv2.waitKey(0)\n",
    "#bilateral filter same used as median filter it work more effective if you have grafhic card\n",
    "bilteral=cv2.bilateralFilter(ims,9,75,75)\n",
    "cv2.imshow(\"Bilteral Blur Image\",bilteral)\n",
    "cv2.waitKey(0)\n",
    "cv2.destroyAllWindows()"
   ]
  },
  {
   "cell_type": "markdown",
   "metadata": {},
   "source": [
    "edge detection of images"
   ]
  },
  {
   "cell_type": "code",
   "execution_count": 2,
   "metadata": {},
   "outputs": [],
   "source": [
    "import cv2\n",
    "img=cv2.imread(r'C:\\Users\\Asus\\Downloads\\additional_stdy\\rishabh.jpg',0)#grayscale conversion\n",
    "ims=cv2.resize(img,(500,500))\n",
    "cv2.imshow(\"output image\",ims)\n",
    "height,width=ims.shape\n",
    "#canny edge detection most effective edge detection method\n",
    "canny=cv2.Canny(ims,20,150)\n",
    "#cv2.Canny(image,lower threshold value,higher threshold)\n",
    "cv2.imshow(\"canny Edge detection of edge\",canny)\n",
    "#lapalican method after canny method it can we used less effective than Canny Metod\n",
    "laplacian=cv2.Laplacian(ims,cv2.CV_64F)\n",
    "#cv2.Laplacian(image,cv2.data type)\n",
    "cv2.imshow(\"Laplacian method\",laplacian)\n",
    "cv2.waitKey(0)\n",
    "cv2.destroyAllWindows()"
   ]
  },
  {
   "cell_type": "markdown",
   "metadata": {},
   "source": [
    "creating black images and perform experimateon it"
   ]
  },
  {
   "cell_type": "code",
   "execution_count": 7,
   "metadata": {},
   "outputs": [],
   "source": [
    "import numpy as np\n",
    "import cv2 as cv\n",
    "# Create a black image\n",
    "img = np.zeros((512,512,3), np.uint8)\n",
    "# Draw a diagonal blue line with thickness of 5 px cv.line(img, pt1, pt2, color[, thickness[, lineType[, shift]]])\n",
    "cv.line(img,(0,0),(511,511),(255,0,0),5)\n",
    "#in every case either it is rectangle,circt,ellipse line,or put text in opencv color matrix fallow (B,G,R) only so put values according to this only\n",
    "#draw rectangle cv.rectangle(img, pt1, pt2, color[, thickness[, lineType[, shift]]])\n",
    "#if alredt rectangle than cv.rectangle(img, rec, color[, thickness[, lineType[, shift]]]\n",
    "cv.rectangle(img,(384,0),(510,128),(0,255,0),-1)\n",
    "#draw cirlcle   cv.circle(img, center, radius, color[, thickness[, lineType[, shift]]])\n",
    "cv.circle(img,(447,63), 63, (0,0,255), -1)\n",
    "#draw ellipse  cv.ellipse(img, center, axes, angle, startAngle, endAngle, color[, thickness[, lineType[, shift]]])\n",
    "cv.ellipse(img,(256,256),(100,50),0,0,180,255,-1)\n",
    "\n",
    "cv2.imshow(\"image\",img)\n",
    "cv2.waitKey(0)\n",
    "cv2.destroyAllWindows()"
   ]
  },
  {
   "cell_type": "code",
   "execution_count": null,
   "metadata": {},
   "outputs": [],
   "source": []
  }
 ],
 "metadata": {
  "kernelspec": {
   "display_name": "Python 3",
   "language": "python",
   "name": "python3"
  },
  "language_info": {
   "codemirror_mode": {
    "name": "ipython",
    "version": 3
   },
   "file_extension": ".py",
   "mimetype": "text/x-python",
   "name": "python",
   "nbconvert_exporter": "python",
   "pygments_lexer": "ipython3",
   "version": "3.7.6"
  }
 },
 "nbformat": 4,
 "nbformat_minor": 4
}
