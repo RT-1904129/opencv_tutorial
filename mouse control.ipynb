{
 "cells": [
  {
   "cell_type": "markdown",
   "metadata": {},
   "source": [
    "### Handling Mouse Events on images when You click on images it print their coordinate on that images"
   ]
  },
  {
   "cell_type": "code",
   "execution_count": 7,
   "metadata": {},
   "outputs": [
    {
     "name": "stdout",
     "output_type": "stream",
     "text": [
      "149 , 68\n",
      "158 , 114\n",
      "197 , 159\n",
      "201 , 209\n",
      "201 , 249\n",
      "168 , 300\n",
      "168 , 302\n"
     ]
    }
   ],
   "source": [
    "import numpy as np\n",
    "import cv2\n",
    "\n",
    "def click_event(event,x,y,flages,param):\n",
    "    #for its activates when left mouse key pressed\n",
    "    if event ==cv2.EVENT_LBUTTONDOWN: \n",
    "        print(x,',',y)\n",
    "        cv2.putText(img,(str(x)+','+str(y)),(x,y),cv2.FONT_HERSHEY_SIMPLEX,0.4,(255,0,0),1)\n",
    "        cv2.imshow(\"image\",img)\n",
    "    \n",
    "    #for its activates when right mouse key\n",
    "    if event==cv2.EVENT_RBUTTONDOWN:\n",
    "        print(x,',',y)\n",
    "        cv2.putText(img,(str(x)+','+str(y)),(x,y),cv2.FONT_HERSHEY_SIMPLEX,0.4,(0,0,255),1)\n",
    "        cv2.imshow(\"image\",img)\n",
    "\n",
    "#so all colourful image is nxnx3 matrix and all value in range[0,255]\n",
    "#if its black and white than its have only nXn matriex only and values range[0,1]\n",
    "img=np.zeros((512,512,3),np.uint8)\n",
    "cv2.imshow(\"image\",img)\n",
    "cv2.setMouseCallback(\"image\",click_event)\n",
    "cv2.waitKey(0)\n",
    "cv2.destroyAllWindows()"
   ]
  },
  {
   "cell_type": "markdown",
   "metadata": {},
   "source": []
  },
  {
   "cell_type": "code",
   "execution_count": null,
   "metadata": {},
   "outputs": [],
   "source": []
  }
 ],
 "metadata": {
  "kernelspec": {
   "display_name": "Python 3",
   "language": "python",
   "name": "python3"
  },
  "language_info": {
   "codemirror_mode": {
    "name": "ipython",
    "version": 3
   },
   "file_extension": ".py",
   "mimetype": "text/x-python",
   "name": "python",
   "nbconvert_exporter": "python",
   "pygments_lexer": "ipython3",
   "version": "3.7.6"
  }
 },
 "nbformat": 4,
 "nbformat_minor": 4
}
