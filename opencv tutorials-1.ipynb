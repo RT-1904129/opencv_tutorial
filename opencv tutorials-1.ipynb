{
 "cells": [
  {
   "cell_type": "markdown",
   "metadata": {},
   "source": [
    "we can used in anroid ,linex,mac,window made by intell processser\n",
    "OpenCV (Open Source Computer Vision Library) is released under a BSD license and hence it’s free for both academic and commercial use. It has C++, Python and Java interfaces and supports Windows, Linux, Mac OS, iOS and Android. OpenCV was designed for computational efficiency and with a strong focus on real-time applications. Written in optimized C/C++, the library can take advantage of multi-core processing. Enabled with OpenCL, it can take advantage of the hardware acceleration of the underlying heterogeneous compute platform."
   ]
  },
  {
   "cell_type": "markdown",
   "metadata": {},
   "source": [
    "modules and study of open cv tutorial link;-. https://opencv.org/"
   ]
  },
  {
   "cell_type": "code",
   "execution_count": 1,
   "metadata": {},
   "outputs": [],
   "source": [
    "import cv2"
   ]
  },
  {
   "cell_type": "markdown",
   "metadata": {},
   "source": [
    "we will read one picture here"
   ]
  },
  {
   "cell_type": "markdown",
   "metadata": {},
   "source": [
    "both address working\" r'C:\\Users\\Asus\\Downloads\\additional_stdy\\rishabh.jpg' \" and \" 'C:/Users/Asus/Downloads/additional_stdy/rishabh.jpg' \""
   ]
  },
  {
   "cell_type": "code",
   "execution_count": 8,
   "metadata": {},
   "outputs": [],
   "source": [
    "img=cv2.imread(r'C:\\Users\\Asus\\Downloads\\additional_stdy\\rishabh.jpg') #for reading images\n",
    "ims = cv2.resize(img, (500,500)) #for resizethe images\n",
    "\n",
    "\n"
   ]
  },
  {
   "cell_type": "code",
   "execution_count": 16,
   "metadata": {},
   "outputs": [],
   "source": [
    "cv2.imshow(\"output Image\",ims)#it showing images\n"
   ]
  },
  {
   "cell_type": "code",
   "execution_count": 17,
   "metadata": {},
   "outputs": [],
   "source": [
    "cv2.waitKey(0)#shows output uless you enter any key\n",
    "cv2.destroyAllWindows() #Exit window and destroy all windows "
   ]
  },
  {
   "cell_type": "markdown",
   "metadata": {},
   "source": [
    "How to write images"
   ]
  },
  {
   "cell_type": "code",
   "execution_count": 10,
   "metadata": {},
   "outputs": [],
   "source": [
    "img=cv2.imread(r'C:\\Users\\Asus\\Downloads\\additional_stdy\\rishabh.jpg') #for reading images\n",
    "ims = cv2.resize(img, (500,500)) #for resize the images\n",
    "cv2.imshow(\"output Image\",ims)#it showing images\n",
    "cv2.imwrite('this_is_new_images.jpg',img)# it is used to make new jpg file checkm your directery there new same jpg file formed\n",
    "cv2.imwrite(\"this_is_png_file_of_mew_images.png\",img)#it is used to make new png file checkm your directery there new same jpg file formed\n",
    "cv2.waitKey(0)#shows output uless you enter any key\n",
    "cv2.destroyAllWindows() #Exit window and destroy all windows "
   ]
  },
  {
   "cell_type": "markdown",
   "metadata": {},
   "source": [
    "here we talk about image info(information present inside imges)"
   ]
  },
  {
   "cell_type": "code",
   "execution_count": 11,
   "metadata": {},
   "outputs": [],
   "source": [
    "img=cv2.imread(r'C:\\Users\\Asus\\Downloads\\additional_stdy\\rishabh.jpg')\n",
    "ims=cv2.resize(img,(500,500))\n",
    "cv2.imshow(\"output Image\",ims)\n",
    "cv2.waitKey(0)\n",
    "cv2.destroyAllWindows()"
   ]
  },
  {
   "cell_type": "code",
   "execution_count": 14,
   "metadata": {},
   "outputs": [
    {
     "name": "stdout",
     "output_type": "stream",
     "text": [
      "(2592, 1944, 3)\n",
      "height pixal value 2592 ---widght pixal values 1944\n"
     ]
    }
   ],
   "source": [
    "print(img.shape)# used to know all pixal values of images img.shape[2] it shows plane value which normally equal to 3\n",
    "print(\"height pixal value\",img.shape[0],\"---widght pixal values\",img.shape[1])"
   ]
  },
  {
   "cell_type": "markdown",
   "metadata": {},
   "source": [
    "here we talk about grayscale images(combination of both Black and white)"
   ]
  },
  {
   "cell_type": "code",
   "execution_count": 16,
   "metadata": {},
   "outputs": [],
   "source": [
    "img=cv2.imread(r'C:\\Users\\Asus\\Downloads\\additional_stdy\\rishabh.jpg')\n",
    "ims=cv2.resize(img,(500,500))\n",
    "cv2.imshow(\"output Image\",ims)\n",
    "cv2.waitKey(0)\n",
    "gray_img=cv2.cvtColor(ims,cv2.COLOR_BGR2GRAY)#this is used converting rgb images to grayscale images\n",
    "#cv2.cvtColor(images,cv2.COLOR_BGR2GRAY)\n",
    "cv2.imshow(\"output Image ARE GRAY scale images\",gray_img)\n",
    "cv2.waitKey(0)\n",
    "cv2.destroyAllWindows()"
   ]
  },
  {
   "cell_type": "markdown",
   "metadata": {},
   "source": [
    "this is alternate way to convert rgb images into gray scale images"
   ]
  },
  {
   "cell_type": "code",
   "execution_count": 18,
   "metadata": {},
   "outputs": [],
   "source": [
    "img=cv2.imread(r'C:\\Users\\Asus\\Downloads\\additional_stdy\\rishabh.jpg',0)#just putting zero here we get result but previous methed is better because we can do lots of thing by useing previuos function see documentation of it in opencv\n",
    "ims=cv2.resize(img,(500,500))\n",
    "cv2.imshow(\"output Image are grayscale means Black white\",ims)\n",
    "cv2.waitKey(0)\n",
    "cv2.destroyAllWindows()"
   ]
  },
  {
   "cell_type": "markdown",
   "metadata": {},
   "source": [
    "binery images(means either Black or white) here pixal of black have value 0 and for white it have values 1"
   ]
  },
  {
   "cell_type": "code",
   "execution_count": 20,
   "metadata": {},
   "outputs": [],
   "source": [
    "img=cv2.imread(r'C:\\Users\\Asus\\Downloads\\additional_stdy\\rishabh.jpg',0)\n",
    "ims=cv2.resize(img,(500,500))\n",
    "cv2.imshow(\"output Image is grayscale type\",ims)\n",
    "cv2.waitKey(0)\n",
    "cv2.destroyAllWindows()"
   ]
  },
  {
   "cell_type": "markdown",
   "metadata": {},
   "source": [
    "value of each color of rgb means red blue green is from(0-255)"
   ]
  },
  {
   "cell_type": "code",
   "execution_count": 23,
   "metadata": {},
   "outputs": [],
   "source": [
    "#we use thershold method\n",
    "ret,bw=cv2.threshold(ims,127,255,cv2.THRESH_BINARY)\n",
    "#you can takeany value for threshold cv2.threshold(images,start rgb values any values,end rgb  values of pical values,cv2.THRESH_BINARY)\n",
    "cv2.imshow(\"Binery images\",bw)\n",
    "cv2.waitKey(0)\n",
    "cv2.destroyAllWindows()"
   ]
  },
  {
   "cell_type": "markdown",
   "metadata": {},
   "source": [
    "here we work on color filtering and color space(rgb(red,green,blue),hsv(hue,saturation,Value))"
   ]
  },
  {
   "cell_type": "markdown",
   "metadata": {},
   "source": [
    "value of each color of rgb means red blue green is from(0-255) \n",
    "\n",
    "but hsv values range differ \n",
    "as:  Hue:(0-180), Saturation :(0-255), Values:(0-255)"
   ]
  },
  {
   "cell_type": "code",
   "execution_count": 3,
   "metadata": {},
   "outputs": [],
   "source": [
    "img=cv2.imread(r'C:\\Users\\Asus\\Downloads\\additional_stdy\\rishabh.jpg')\n",
    "ims=cv2.resize(img,(500,500))\n",
    "cv2.imshow(\"output Image\",ims)\n",
    "cv2.imshow(\"output red Image\",ims[:,:,0])\n",
    "cv2.imshow(\"output blue Image\",ims[:,:,1])\n",
    "cv2.imshow(\"output green Image\",ims[:,:,2])\n",
    "#it give  different values color images and initall cominened all color images\n",
    "cv2.waitKey(0)\n",
    "cv2.destroyAllWindows()"
   ]
  },
  {
   "cell_type": "code",
   "execution_count": 4,
   "metadata": {},
   "outputs": [],
   "source": [
    "img=cv2.imread(r'C:\\Users\\Asus\\Downloads\\additional_stdy\\rishabh.jpg')\n",
    "ims=cv2.resize(img,(500,500))\n",
    "cv2.imshow(\"output Image\",ims)\n",
    "img_HSV=cv2.cvtColor(ims,cv2.COLOR_BGR2HSV)\n",
    "cv2.imshow(\"Hsv images\",img_HSV)\n",
    "cv2.imshow(\"Hue Channel \",img_HSV[:,:,0])\n",
    "cv2.imshow(\"Sturation \",img_HSV[:,:,1])\n",
    "cv2.imshow(\"Value Channel \",img_HSV[:,:,2])\n",
    "cv2.waitKey(0)\n",
    "cv2.destroyAllWindows()"
   ]
  },
  {
   "cell_type": "markdown",
   "metadata": {},
   "source": [
    "how to Extract RGB Color Space and here we know how our images shave in computer as binery code as 2D array(matrixes)"
   ]
  },
  {
   "cell_type": "code",
   "execution_count": 5,
   "metadata": {},
   "outputs": [],
   "source": [
    "img=cv2.imread(r'C:\\Users\\Asus\\Downloads\\additional_stdy\\rishabh.jpg')\n",
    "ims=cv2.resize(img,(500,500))\n",
    "cv2.imshow(\"output Image\",ims)\n",
    "cv2.waitKey(0)\n",
    "cv2.destroyAllWindows()"
   ]
  },
  {
   "cell_type": "code",
   "execution_count": 18,
   "metadata": {},
   "outputs": [],
   "source": [
    "import numpy as np\n",
    "B,G,R=cv2.split(ims)\n",
    "zeros=np.zeros(ims.shape[:2],dtype=\"uint8\")"
   ]
  },
  {
   "cell_type": "code",
   "execution_count": 19,
   "metadata": {},
   "outputs": [
    {
     "data": {
      "text/plain": [
       "array([[0, 0, 0, ..., 0, 0, 0],\n",
       "       [0, 0, 0, ..., 0, 0, 0],\n",
       "       [0, 0, 0, ..., 0, 0, 0],\n",
       "       ...,\n",
       "       [0, 0, 0, ..., 0, 0, 0],\n",
       "       [0, 0, 0, ..., 0, 0, 0],\n",
       "       [0, 0, 0, ..., 0, 0, 0]], dtype=uint8)"
      ]
     },
     "execution_count": 19,
     "metadata": {},
     "output_type": "execute_result"
    }
   ],
   "source": [
    "zeros"
   ]
  },
  {
   "cell_type": "code",
   "execution_count": 24,
   "metadata": {},
   "outputs": [],
   "source": [
    "cv2.imshow(\"red\",cv2.merge([zeros,zeros,R]))#red plane shows as we know every images hane three plane red plane,blue plane ,green plane\n",
    "cv2.imshow(\"green\",cv2.merge([zeros,G,zeros]))#green plane\n",
    "cv2.imshow(\"Blue\",cv2.merge([B,zeros,zeros]))#blue plane\n",
    "#from this we conclude that each image shave as 2 dimention array matriex and each box of matrices have values for each red matrices ,green matrices,blue matrices \n",
    "cv2.imshow(\"merging Blue and green\",cv2.merge([B,G,zeros]))#here we mearge both plane bluee and green\n",
    "cv2.waitKey(0)\n",
    "cv2.destroyAllWindows()"
   ]
  },
  {
   "cell_type": "code",
   "execution_count": null,
   "metadata": {},
   "outputs": [],
   "source": []
  }
 ],
 "metadata": {
  "kernelspec": {
   "display_name": "Python 3",
   "language": "python",
   "name": "python3"
  },
  "language_info": {
   "codemirror_mode": {
    "name": "ipython",
    "version": 3
   },
   "file_extension": ".py",
   "mimetype": "text/x-python",
   "name": "python",
   "nbconvert_exporter": "python",
   "pygments_lexer": "ipython3",
   "version": "3.7.6"
  }
 },
 "nbformat": 4,
 "nbformat_minor": 4
}
