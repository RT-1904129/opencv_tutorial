{
 "cells": [
  {
   "cell_type": "markdown",
   "metadata": {},
   "source": [
    "# it substract all background noise and you are easily detet movlable things"
   ]
  },
  {
   "cell_type": "markdown",
   "metadata": {},
   "source": [
    "**Here we focus on cv2.createBackgroundSubtractorMOG2(detectShadows=False) it work efficient if we put detectShadows=False if we put it True than it consider shadow also as important image and donot substract it**"
   ]
  },
  {
   "cell_type": "code",
   "execution_count": 8,
   "metadata": {},
   "outputs": [],
   "source": [
    "import numpy as np\n",
    "import cv2 \n",
    "cap = cv2.VideoCapture(0)\n",
    "\n",
    "fgbg = cv2.createBackgroundSubtractorMOG2(detectShadows=False)\n",
    "\n",
    "while True:\n",
    "    ret, frame = cap.read()\n",
    "    frame = cv2.flip(frame, 1)\n",
    "    fgmask = fgbg.apply(frame)\n",
    "\n",
    "    cv2.imshow('Frame', frame)\n",
    "    cv2.imshow('FG MASK Frame', fgmask)\n",
    "\n",
    "    keyboard = cv2.waitKey(1)\n",
    "    if keyboard ==ord('q') :\n",
    "        break\n",
    "cap.release()\n",
    "cv2.destroyAllWindows()"
   ]
  },
  {
   "cell_type": "markdown",
   "metadata": {},
   "source": [
    "**Here we focus on cv2.createBackgroundSubtractorKNN(detectShadows=False) it work efficient in** \n",
    "### comapre  cv2.createBackgroundSubtractorMOG2 \n",
    "**to if we put detectShadows=False if we put it True than it consider shadow also as important image and donot substract it**"
   ]
  },
  {
   "cell_type": "code",
   "execution_count": 10,
   "metadata": {},
   "outputs": [],
   "source": [
    "import numpy as np\n",
    "import cv2 \n",
    "cap = cv2.VideoCapture(0)\n",
    "\n",
    "fgbg = cv2.createBackgroundSubtractorKNN(detectShadows=False)\n",
    "while True:\n",
    "    ret, frame = cap.read()\n",
    "    frame = cv2.flip(frame, 1)\n",
    "    fgmask = fgbg.apply(frame)\n",
    "    \n",
    "\n",
    "    cv2.imshow('Frame', frame)\n",
    "    cv2.imshow('FG MASK Frame', fgmask)\n",
    "\n",
    "    keyboard = cv2.waitKey(1)\n",
    "    if keyboard ==ord('q') :\n",
    "        break\n",
    "cap.release()\n",
    "cv2.destroyAllWindows()"
   ]
  },
  {
   "cell_type": "markdown",
   "metadata": {},
   "source": [
    "**Here we focus on cv2.bgsegm.createBackgroundSubtractorGMG it work verry less efficient because it substract all back ground**"
   ]
  },
  {
   "cell_type": "code",
   "execution_count": 12,
   "metadata": {},
   "outputs": [],
   "source": [
    "import numpy as np\n",
    "import cv2 \n",
    "cap = cv2.VideoCapture(0)\n",
    "kernel = cv2.getStructuringElement(cv.MORPH_ELLIPSE, (5,5))\n",
    "\n",
    "fgbg = cv2.bgsegm.createBackgroundSubtractorGMG()\n",
    "while True:\n",
    "    ret, frame = cap.read()\n",
    "    frame = cv2.flip(frame, 1)\n",
    "    fgmask = fgbg.apply(frame)\n",
    "    fgmask = cv2.morphologyEx(fgmask, cv.MORPH_OPEN, kernel) # we apply it for better output we done morphlogical operation\n",
    "\n",
    "    cv2.imshow('Frame', frame)\n",
    "    cv2.imshow('FG MASK Frame', fgmask)\n",
    "\n",
    "    keyboard = cv2.waitKey(1)\n",
    "    if keyboard ==ord('q') :\n",
    "        break\n",
    "cap.release()\n",
    "cv2.destroyAllWindows()"
   ]
  },
  {
   "cell_type": "markdown",
   "metadata": {},
   "source": [
    " #### Here we focus on cv2.bgsegm.createBackgroundSubtractorMOG() \n",
    " ## This is best backgroundsubtracter which can work most efficiently in compare to other substractor"
   ]
  },
  {
   "cell_type": "code",
   "execution_count": 23,
   "metadata": {},
   "outputs": [],
   "source": [
    "import numpy as np\n",
    "import cv2 \n",
    "cap = cv2.VideoCapture(0)\n",
    "kernel = cv2.getStructuringElement(cv.MORPH_ELLIPSE, (4,4))\n",
    "# This is best backgroundsubtracter which can work most efficiently in compare to other substractor\n",
    "fgbg = cv2.bgsegm.createBackgroundSubtractorMOG()\n",
    "\n",
    "while True:\n",
    "    ret, frame = cap.read()\n",
    "    frame = cv2.flip(frame, 1)\n",
    "    fgmask = fgbg.apply(frame)\n",
    "    fgmask = cv2.morphologyEx(fgmask, cv.MORPH_OPEN, kernel)# we apply it for better output we done morphlogical operation we can define iteration bydefault iteration is \n",
    "    cv2.imshow('Frame', frame)\n",
    "    cv2.imshow('FG MASK Frame', fgmask)\n",
    "\n",
    "    keyboard = cv2.waitKey(1)\n",
    "    if keyboard ==ord('q') :\n",
    "        break\n",
    "cap.release()\n",
    "cv2.destroyAllWindows()"
   ]
  },
  {
   "cell_type": "markdown",
   "metadata": {},
   "source": [
    "### we can apply morpilogical operation for better output in any substarter and it will work much efficient way"
   ]
  },
  {
   "cell_type": "markdown",
   "metadata": {},
   "source": [
    "final conclusion is that **cv2.bgsegm.createBackgroundSubtractorMOG()** it work much effient in compare to others"
   ]
  },
  {
   "cell_type": "code",
   "execution_count": null,
   "metadata": {},
   "outputs": [],
   "source": []
  }
 ],
 "metadata": {
  "kernelspec": {
   "display_name": "Python 3",
   "language": "python",
   "name": "python3"
  },
  "language_info": {
   "codemirror_mode": {
    "name": "ipython",
    "version": 3
   },
   "file_extension": ".py",
   "mimetype": "text/x-python",
   "name": "python",
   "nbconvert_exporter": "python",
   "pygments_lexer": "ipython3",
   "version": "3.7.6"
  }
 },
 "nbformat": 4,
 "nbformat_minor": 4
}
